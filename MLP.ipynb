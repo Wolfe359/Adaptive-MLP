{
 "cells": [
  {
   "cell_type": "code",
   "execution_count": 1,
   "metadata": {},
   "outputs": [],
   "source": [
    "import numpy as np\n",
    "import random\n",
    "from matplotlib import pyplot as plt\n"
   ]
  },
  {
   "cell_type": "code",
   "execution_count": 2,
   "metadata": {},
   "outputs": [],
   "source": [
    "def network_build(inp, o_count):\n",
    "    weights = np.array([[]])\n",
    "    #weights\n",
    "    for ip in range(inp):\n",
    "        w = np.array([])\n",
    "        for i in range(o_count):\n",
    "            a = np.array([np.random.normal()])\n",
    "            w= np.hstack((w,a)) \n",
    "        if ip == 0:\n",
    "            weights = w\n",
    "        else:\n",
    "            weights = np.vstack((weights, w))\n",
    "    weights = weights\n",
    "    print(weights)\n",
    "    print(weights.shape)\n",
    "    #biases\n",
    "    biases = np.array([])\n",
    "    for i in range(o_count):\n",
    "        a = np.array([np.random.normal()])\n",
    "        if i ==0:\n",
    "            biases = a\n",
    "        else:\n",
    "            biases = np.hstack((biases, a))\n",
    "    biases = biases\n",
    "    print(biases)\n",
    "    print(biases.shape)\n",
    "    return weights, biases"
   ]
  },
  {
   "cell_type": "markdown",
   "metadata": {},
   "source": [
    "\n",
    "\n",
    "inputs = np.array([[1,1,1],\n",
    "                   [0,1,1],\n",
    "                   [0,0,1],\n",
    "                   [0,0,0],\n",
    "                   [1,0,0],\n",
    "                   [0,1,0],\n",
    "                   [1,1,0],\n",
    "                   [1,0,1]])\n",
    "correct_output = np.array([[1, 1],\n",
    "                           [0, 1],\n",
    "                           [0, 0],\n",
    "                           [0, 0],\n",
    "                           [1, 0],\n",
    "                           [0, 1],\n",
    "                           [1, 1],\n",
    "                           [1, 0]])\n",
    "                           "
   ]
  },
  {
   "cell_type": "code",
   "execution_count": 21,
   "metadata": {},
   "outputs": [
    {
     "name": "stdout",
     "output_type": "stream",
     "text": [
      "(2,)\n"
     ]
    }
   ],
   "source": [
    "inputs=np.array([[3,1.5],[2,1],[4,1.5],[3.5,.5],[3,1],[2,.5],[5.5,1],[1,1]])\n",
    "correct_output = np.array([[1, 0],[0, 1],[1, 0],[1, 0],[0, 1],[0, 1],[1, 0],[0, 1]])\n",
    "print(inputs[0].shape)"
   ]
  },
  {
   "cell_type": "code",
   "execution_count": 22,
   "metadata": {},
   "outputs": [
    {
     "name": "stdout",
     "output_type": "stream",
     "text": [
      "[[-0.05021932  0.39328487]\n",
      " [ 0.34428791 -0.98998607]]\n",
      "(2, 2)\n",
      "[ 1.15059418 -1.09309187]\n",
      "(2,)\n",
      "[[ 0.22404701  0.8502376 ]\n",
      " [ 0.43234427 -1.05043032]]\n",
      "(2, 2)\n",
      "[-0.13150674  0.40459494]\n",
      "(2,)\n"
     ]
    }
   ],
   "source": [
    "weights, biases = network_build(len(inputs[0]),2)\n",
    "weights_h, biases_h = network_build(2,2)"
   ]
  },
  {
   "cell_type": "code",
   "execution_count": 23,
   "metadata": {},
   "outputs": [],
   "source": [
    "def cost(output, c_o):\n",
    "    cost = np.square(c_o-output)\n",
    "    return cost\n",
    "def sigmoid(x):\n",
    "    return 1 / (1 + np.exp(-x))\n",
    "def sigmoid_derivative(x):\n",
    "    return x * (1 - x)\n",
    "def prediction_t(weights, biases,inputs):\n",
    "    output = np.add(inputs.dot(weights), biases)\n",
    "    return sigmoid(output)"
   ]
  },
  {
   "cell_type": "code",
   "execution_count": 24,
   "metadata": {},
   "outputs": [],
   "source": [
    "learning_rate = .05\n",
    "costs = []\n",
    "iterations = 70000\n",
    "def pokemon_Trainer(weights, biases, weights_h, biases_h, iterations):\n",
    "    global inputs, correct_output, learning_rate, costs\n",
    "    place = 0\n",
    "    for i in range(iterations):\n",
    "        inp = inputs[place]\n",
    "        c_o = correct_output[place]\n",
    "        place += 1\n",
    "        if place == len(inputs[0]):\n",
    "            place = 0\n",
    "        \n",
    "        \n",
    "        output_i = prediction_t(weights, biases, inp)\n",
    "        output_f = prediction_t(weights_h, biases_h, output_i)\n",
    "        \n",
    "        error_h = c_o - output_f\n",
    "        error_h_delta = error_h* sigmoid_derivative(output_f)\n",
    "        \n",
    "        costs.append(cost(output_f, c_o))\n",
    "        error = error_h_delta.dot(weights_h.T)\n",
    "        error_delta = error *sigmoid_derivative(output_i)\n",
    "        \n",
    "        weights+=learning_rate*inp.T.dot(error_delta)\n",
    "        weights_h+= learning_rate*np.outer(output_i,error_h_delta)\n",
    "        #biases idk\n",
    "        biases+=learning_rate * error_delta \n",
    "        biases_h+=learning_rate* error_h_delta\n",
    "    return weights,biases, weights_h, biases_h"
   ]
  },
  {
   "cell_type": "code",
   "execution_count": 25,
   "metadata": {},
   "outputs": [],
   "source": [
    "weights, biases, weights_h, biases_h = pokemon_Trainer(weights,biases, weights_h, biases_h, iterations)"
   ]
  },
  {
   "cell_type": "code",
   "execution_count": 30,
   "metadata": {},
   "outputs": [
    {
     "name": "stdout",
     "output_type": "stream",
     "text": [
      "Synaptic weights after training: \n",
      "[[2.74380519 3.18730938]\n",
      " [3.13831241 1.80403844]]\n",
      "Input 1: 4\n",
      "Input 2: 1.5\n",
      "New situation: input data =  4.0 1.5\n",
      "[[0.98684086 0.01292983]]\n"
     ]
    },
    {
     "data": {
      "image/png": "[encoded data removed]",
      "text/plain": [
       "<Figure size 432x288 with 1 Axes>"
      ]
     },
     "metadata": {
      "needs_background": "light"
     },
     "output_type": "display_data"
    },
    {
     "data": {
      "image/png": "[encoded data removed]",
      "text/plain": [
       "<Figure size 432x288 with 1 Axes>"
      ]
     },
     "metadata": {
      "needs_background": "light"
     },
     "output_type": "display_data"
    }
   ],
   "source": [
    "print(\"Synaptic weights after training: \")\n",
    "print(weights)\n",
    "A = float(input(\"Input 1: \"))\n",
    "B = float(input(\"Input 2: \"))\n",
    "#C = float(input(\"Input 3: \"))\n",
    "\n",
    "#print(\"New situation: input data = \", A, B, C)\n",
    "print(\"New situation: input data = \", A, B)\n",
    "#print(\"Output data: \")\n",
    "#new_data = np.array([[A,B,C]])\n",
    "new_data = np.array([[A,B]])\n",
    "fp = prediction_t(weights_h, biases_h, prediction_t(weights, biases, new_data))\n",
    "print(fp)\n",
    "plt.figure(1)\n",
    "plt.subplot(211)\n",
    "plt.plot(costs)\n",
    "plt.axis([0, iterations, 0, 2.5])\n",
    "plt.show()\n",
    "plt.subplot(212)\n",
    "plt.show()"
   ]
  },
  {
   "cell_type": "code",
   "execution_count": null,
   "metadata": {},
   "outputs": [],
   "source": []
  }
 ],
 "metadata": {
  "kernelspec": {
   "display_name": "Python 3",
   "language": "python",
   "name": "python3"
  },
  "language_info": {
   "codemirror_mode": {
    "name": "ipython",
    "version": 3
   },
   "file_extension": ".py",
   "mimetype": "text/x-python",
   "name": "python",
   "nbconvert_exporter": "python",
   "pygments_lexer": "ipython3",
   "version": "3.7.3"
  },
  "toc": {
   "base_numbering": 1,
   "nav_menu": {},
   "number_sections": true,
   "sideBar": true,
   "skip_h1_title": false,
   "title_cell": "Table of Contents",
   "title_sidebar": "Contents",
   "toc_cell": false,
   "toc_position": {},
   "toc_section_display": true,
   "toc_window_display": false
  }
 },
 "nbformat": 4,
 "nbformat_minor": 2
}
